{
 "cells": [
  {
   "cell_type": "markdown",
   "metadata": {},
   "source": [
    "# About\n",
    "\n",
    "This is a template that contains some tips and tricks for the design of the work. It is not necessary to strictly follow the format, if desired, you can delete/add/replace any cell."
   ]
  },
  {
   "cell_type": "code",
   "execution_count": null,
   "metadata": {},
   "outputs": [],
   "source": [
    "# TIP: Move all imports to the first code cell. \n",
    "#      It's the easiest way to understand exactly which dependencies are needed for this jupyter notebook.\n",
    "\n",
    "import pandas as pd"
   ]
  },
  {
   "cell_type": "markdown",
   "metadata": {},
   "source": [
    "# Data loading"
   ]
  },
  {
   "cell_type": "markdown",
   "metadata": {},
   "source": [
    "**# TIP:** Every year there is an increase in the data that data science works with. The investigated dataset may not be fully loaded into memory or it may take a very long time to load into pandas. To get around this, you can:\n",
    "- use pandas partial upload via the `chunksize` parameter\n",
    "- try the [polars](https://pola.rs/) or [dask](https://www.dask.org/) libraries"
   ]
  },
  {
   "cell_type": "code",
   "execution_count": null,
   "metadata": {},
   "outputs": [],
   "source": [
    "# TODO: example of the tip"
   ]
  },
  {
   "cell_type": "markdown",
   "metadata": {},
   "source": [
    "# Data Preprocessing"
   ]
  },
  {
   "cell_type": "markdown",
   "metadata": {},
   "source": [
    "Explain the data preprocessing steps, such as handling missing values, encoding categorical variables, etc.\n",
    "\n",
    "Describe the feature engineering techniques used to create new features or transform existing ones."
   ]
  },
  {
   "cell_type": "code",
   "execution_count": null,
   "metadata": {},
   "outputs": [],
   "source": []
  },
  {
   "cell_type": "markdown",
   "metadata": {},
   "source": [
    "# EDA\n"
   ]
  },
  {
   "cell_type": "markdown",
   "metadata": {},
   "source": [
    "Describe the exploratory data analysis performed, including any interesting findings, outliers, or relationships between variables.\n",
    "\n",
    "Include relevant visualizations, such as histograms, box plots, or scatter plots, to illustrate your EDA results."
   ]
  },
  {
   "cell_type": "code",
   "execution_count": null,
   "metadata": {},
   "outputs": [],
   "source": []
  },
  {
   "cell_type": "markdown",
   "metadata": {},
   "source": [
    "# Model fitting "
   ]
  },
  {
   "cell_type": "markdown",
   "metadata": {},
   "source": [
    "Explain the reasoning behind the choice of the machine learning model(s) used in your solution.\n",
    "\n",
    "Describe the process of training and evaluating your model(s), including the choice of evaluation metric(s) and any techniques used to prevent overfitting."
   ]
  },
  {
   "cell_type": "markdown",
   "metadata": {},
   "source": [
    "**# TRICK:** It is known that to save stratification in a target, you can use [StratifiedKFold](https://scikit-learn.org/stable/modules/generated/sklearn.model_selection.StratifiedKFold.html#sklearn.model_selection.StratifiedKFold.split), but not only \"target variable for supervised learning problems\" can be passed to the `y` parameter of the [`split`](https://scikit-learn.org/stable/modules/generated/sklearn.model_selection.StratifiedKFold.html#sklearn.model_selection.StratifiedKFold.split) method. This can be any categorical sequence, the stratification of which you want to preserve."
   ]
  },
  {
   "cell_type": "code",
   "execution_count": null,
   "metadata": {},
   "outputs": [],
   "source": [
    "# TODO: example of the trick"
   ]
  },
  {
   "cell_type": "markdown",
   "metadata": {},
   "source": [
    "# Overview"
   ]
  },
  {
   "cell_type": "markdown",
   "metadata": {},
   "source": [
    "Describe the main ideas and conclusions that were obtained based on the results of the work: what worked, what didn't work, what can still be done in the future."
   ]
  }
 ],
 "metadata": {
  "language_info": {
   "name": "python"
  }
 },
 "nbformat": 4,
 "nbformat_minor": 2
}
